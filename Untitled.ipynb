{
 "cells": [
  {
   "cell_type": "code",
   "execution_count": 6,
   "id": "380503fb-95d3-44b1-82d2-7993d8b8555c",
   "metadata": {},
   "outputs": [],
   "source": [
    "from cnvrgv2 import Cnvrg\n",
    "from cnvrgv2 import Experiment\n",
    "import os\n",
    "cnvrg = Cnvrg()"
   ]
  },
  {
   "cell_type": "code",
   "execution_count": 2,
   "id": "4bbeba0e-52e4-4234-a94d-ee09b9afe964",
   "metadata": {},
   "outputs": [],
   "source": [
    "myproj = cnvrg.projects.get(\"imdb\")"
   ]
  },
  {
   "cell_type": "code",
   "execution_count": 3,
   "id": "5620a4f3-09b8-4db6-bea8-260e6da7d416",
   "metadata": {},
   "outputs": [
    {
     "name": "stdout",
     "output_type": "stream",
     "text": [
      "{'commit': 'fe2ef495a1152561572949784c16bf23abb28057',\n",
      " 'git': True,\n",
      " 'git_branch': 'main',\n",
      " 'git_url': 'https://github.com/dilerous/git_diff.git',\n",
      " 'last_commit': 'fe2ef495a1152561572949784c16bf23abb28057',\n",
      " 'num_files': 6,\n",
      " 'p_tags': None,\n",
      " 'public': False,\n",
      " 'slug': 'imdb',\n",
      " 'start_commit': '98fbc42faedc02492397cb5962ea3a3ffc0a9243',\n",
      " 'title': 'imdb'}\n"
     ]
    }
   ],
   "source": [
    "print(myproj)"
   ]
  },
  {
   "cell_type": "code",
   "execution_count": 4,
   "id": "446f58d5-d479-4136-be30-644af07c36b2",
   "metadata": {},
   "outputs": [],
   "source": [
    "myproj.clone()"
   ]
  },
  {
   "cell_type": "code",
   "execution_count": 7,
   "id": "d3a3f839-7257-411a-920f-d2b64832d34a",
   "metadata": {},
   "outputs": [],
   "source": [
    "os.chdir(\"imdb\")"
   ]
  },
  {
   "cell_type": "code",
   "execution_count": 8,
   "id": "50288560-2672-4fca-aad4-034e31517565",
   "metadata": {},
   "outputs": [
    {
     "ename": "AttributeError",
     "evalue": "type object 'Experiment' has no attribute 'run'",
     "output_type": "error",
     "traceback": [
      "\u001b[0;31m---------------------------------------------------------------------------\u001b[0m",
      "\u001b[0;31mAttributeError\u001b[0m                            Traceback (most recent call last)",
      "Cell \u001b[0;32mIn[8], line 1\u001b[0m\n\u001b[0;32m----> 1\u001b[0m e\u001b[38;5;241m=\u001b[39m\u001b[43mExperiment\u001b[49m\u001b[38;5;241;43m.\u001b[39;49m\u001b[43mrun\u001b[49m(\u001b[38;5;124m'\u001b[39m\u001b[38;5;124mpython3 train.py\u001b[39m\u001b[38;5;124m'\u001b[39m, compute\u001b[38;5;241m=\u001b[39m\u001b[38;5;124m'\u001b[39m\u001b[38;5;124mmedium\u001b[39m\u001b[38;5;124m'\u001b[39m, git_diff\u001b[38;5;241m=\u001b[39m\u001b[38;5;28;01mTrue\u001b[39;00m)\n",
      "\u001b[0;31mAttributeError\u001b[0m: type object 'Experiment' has no attribute 'run'"
     ]
    }
   ],
   "source": [
    "e=Experiment.run('python3 train.py', compute='medium', git_diff=True)"
   ]
  },
  {
   "cell_type": "code",
   "execution_count": 9,
   "id": "3232ac71-6934-4fc4-bdaa-d2cea3236750",
   "metadata": {},
   "outputs": [],
   "source": [
    "e = myproj.experiments.create(title=\"my new exp\", \n",
    "                              template_names=[\"medium\"], \n",
    "                              command=\"python3 train.py\")"
   ]
  },
  {
   "cell_type": "code",
   "execution_count": 10,
   "id": "08c475f8-8d9a-449d-a9e9-d581ab3abeae",
   "metadata": {},
   "outputs": [
    {
     "ename": "AttributeError",
     "evalue": "type object Experiment has no attribute run",
     "output_type": "error",
     "traceback": [
      "\u001b[0;31m---------------------------------------------------------------------------\u001b[0m",
      "\u001b[0;31mAttributeError\u001b[0m                            Traceback (most recent call last)",
      "Cell \u001b[0;32mIn[10], line 1\u001b[0m\n\u001b[0;32m----> 1\u001b[0m \u001b[43me\u001b[49m\u001b[38;5;241;43m.\u001b[39;49m\u001b[43mrun\u001b[49m(\u001b[38;5;124m'\u001b[39m\u001b[38;5;124mpython3 train.py\u001b[39m\u001b[38;5;124m'\u001b[39m, compute\u001b[38;5;241m=\u001b[39m\u001b[38;5;124m'\u001b[39m\u001b[38;5;124mmedium\u001b[39m\u001b[38;5;124m'\u001b[39m, git_diff\u001b[38;5;241m=\u001b[39m\u001b[38;5;28;01mTrue\u001b[39;00m)\n",
      "File \u001b[0;32m/usr/local/lib/python3.10/site-packages/cnvrgv2/modules/base/dynamic_attributes.py:27\u001b[0m, in \u001b[0;36mDynamicAttributes.__getattr__\u001b[0;34m(self, name)\u001b[0m\n\u001b[1;32m     25\u001b[0m         \u001b[38;5;28;01mreturn\u001b[39;00m val\n\u001b[1;32m     26\u001b[0m \u001b[38;5;28;01melse\u001b[39;00m:\n\u001b[0;32m---> 27\u001b[0m     \u001b[38;5;28;01mraise\u001b[39;00m \u001b[38;5;167;01mAttributeError\u001b[39;00m(\u001b[38;5;124m\"\u001b[39m\u001b[38;5;124mtype object \u001b[39m\u001b[38;5;132;01m{}\u001b[39;00m\u001b[38;5;124m has no attribute \u001b[39m\u001b[38;5;132;01m{}\u001b[39;00m\u001b[38;5;124m\"\u001b[39m\u001b[38;5;241m.\u001b[39mformat(\u001b[38;5;28mself\u001b[39m\u001b[38;5;241m.\u001b[39m\u001b[38;5;18m__class__\u001b[39m\u001b[38;5;241m.\u001b[39m\u001b[38;5;18m__name__\u001b[39m, name))\n",
      "\u001b[0;31mAttributeError\u001b[0m: type object Experiment has no attribute run"
     ]
    }
   ],
   "source": [
    "e.run('python3 train.py', compute='medium', git_diff=True)"
   ]
  },
  {
   "cell_type": "code",
   "execution_count": 11,
   "id": "ca3c028c-aae6-462e-855b-50a1748d4fca",
   "metadata": {},
   "outputs": [
    {
     "name": "stdout",
     "output_type": "stream",
     "text": [
      "{'commit': None,\n",
      " 'compute_name': 'medium',\n",
      " 'created_at': 1702676829000,\n",
      " 'current_status': None,\n",
      " 'datasets': [],\n",
      " 'end_commit': None,\n",
      " 'end_time': 0,\n",
      " 'external_disk': '',\n",
      " 'full_href': 'http://app.worker.dilerous.cloud/cnvrg/projects/imdb/experiments/grtopsek4wnvcjpmp67z',\n",
      " 'git': OrderedDict([('url', 'https://github.com/dilerous/git_diff'),\n",
      "                     ('branch_url',\n",
      "                      'https://github.com/dilerous/git_diff/tree/main'),\n",
      "                     ('branch', 'main'),\n",
      "                     ('commit', 'latest')]),\n",
      " 'git_branch': 'main',\n",
      " 'git_commit': 'latest',\n",
      " 'href': 'cnvrg/projects/imdb/experiments/grtopsek4wnvcjpmp67z',\n",
      " 'image_name': 'cnvrg:v5.0',\n",
      " 'image_slug': 'wcoy45hpbpuuu5jk6ri4',\n",
      " 'input': 'python3 train.py',\n",
      " 'is_running': False,\n",
      " 'job_datasets': [],\n",
      " 'last_commit': None,\n",
      " 'last_successful_commit': None,\n",
      " 'local_folders': [],\n",
      " 'ma': 'usw7c9yhrsd5rmhypfvg',\n",
      " 'output_dir': 'output',\n",
      " 'output_folder': 'output',\n",
      " 'remote': True,\n",
      " 'slug': 'grtopsek4wnvcjpmp67z',\n",
      " 'start_commit': None,\n",
      " 'start_time': 1702676829000,\n",
      " 'status': 'initializing',\n",
      " 'tags': OrderedDict(),\n",
      " 'terminal_url': None,\n",
      " 'termination_time': None,\n",
      " 'title': 'my new exp',\n",
      " 'type': 'Experiment',\n",
      " 'username': 'bsoper'}\n"
     ]
    }
   ],
   "source": [
    "print(e)"
   ]
  },
  {
   "cell_type": "code",
   "execution_count": null,
   "id": "e20dc485-86a7-4bd0-bcc4-ae1d9b94401a",
   "metadata": {},
   "outputs": [],
   "source": []
  }
 ],
 "metadata": {
  "kernelspec": {
   "display_name": "Python 3 (ipykernel)",
   "language": "python",
   "name": "python3"
  },
  "language_info": {
   "codemirror_mode": {
    "name": "ipython",
    "version": 3
   },
   "file_extension": ".py",
   "mimetype": "text/x-python",
   "name": "python",
   "nbconvert_exporter": "python",
   "pygments_lexer": "ipython3",
   "version": "3.10.11"
  }
 },
 "nbformat": 4,
 "nbformat_minor": 5
}
